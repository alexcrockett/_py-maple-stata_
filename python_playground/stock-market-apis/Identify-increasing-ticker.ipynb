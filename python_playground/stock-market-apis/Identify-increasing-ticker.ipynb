{
 "cells": [
  {
   "cell_type": "code",
   "id": "initial_id",
   "metadata": {
    "collapsed": true,
    "ExecuteTime": {
     "end_time": "2024-11-24T23:01:02.697745Z",
     "start_time": "2024-11-24T23:01:01.403540Z"
    }
   },
   "source": [
    "# We will pull out the weekly values for a specific stock, in this case NOBL\n",
    "# Reference file: 52-week-cross-correlation.ipynb\n",
    "# Reference file: Programatically replace url strings.ipynb\n",
    "\n",
    "# Starting with the first ticker in the watch list\n",
    "import requests\n",
    "stock_api = 'https://www.alphavantage.co/query?function=TIME_SERIES_WEEKLY&symbol=NOBL&apikey=S12QBVHPYQA165DV'\n",
    "market_response = requests.get(stock_api)\n",
    "data = market_response.json()\n",
    "weekly_data = data[\"Weekly Time Series\"]\n",
    "new_list = []\n",
    "\n",
    "# Create a list with high and low information\n",
    "for i, (date, values) in enumerate(weekly_data.items()):\n",
    "\thigh = float(values['2. high'])\n",
    "\tlow = float(values['3. low'])\n",
    "\tnew_list.append([high, low])\n",
    "print(new_list[-1])\n",
    "print(new_list[51])\n",
    "\n",
    "# Now we need to limit the list to the last 52\n",
    "wip_list = new_list[51:]\n",
    "\n",
    "# Check the work\n",
    "print(wip_list[0])\n",
    "print(wip_list[-1])"
   ],
   "outputs": [
    {
     "name": "stdout",
     "output_type": "stream",
     "text": [
      "[42.11, 40.8099]\n",
      "[92.15, 90.0]\n",
      "[92.15, 90.0]\n",
      "[42.11, 40.8099]\n"
     ]
    }
   ],
   "execution_count": 62
  },
  {
   "metadata": {
    "ExecuteTime": {
     "end_time": "2024-11-24T23:25:36.471683Z",
     "start_time": "2024-11-24T23:25:36.452684Z"
    }
   },
   "cell_type": "code",
   "source": [
    "# Identify if the high is a 52-week-high or 52-week-low\n",
    "\n",
    "# Create a PD dataframe\n",
    "import pandas as pd\n",
    "ticker_df = pd.DataFrame(wip_list, columns=['High', 'Low'])\n",
    "print(ticker_df.head())\n",
    "\n",
    "# See if the most recent highest item is the highest or if the most recent lowest is the lowest\n",
    "recent_high = ticker_df['High'].iloc[0]\n",
    "recent_low = ticker_df['Low'].iloc[0]\n",
    "\n",
    "print(f\"Recent high: {recent_high}\")\n",
    "print(f\"Recent low: {recent_low}\")\n",
    "\n",
    "# A sorted list to compare\n",
    "sorted_high = ticker_df['High'].sort_values(ascending=False)\n",
    "sorted_low = ticker_df['Low'].sort_values(ascending=True)\n",
    "\n",
    "print(\"Sorted high: \\n\", sorted_high.head())\n",
    "print(\"Sorted low: \\n\", sorted_low.head())\n",
    "\n",
    "highest = sorted_high.iloc[0]\n",
    "lowest = sorted_low.iloc[0]\n",
    "\n",
    "print(f\"Highest: {highest}\")\n",
    "print(f\"Lowest: {lowest}\")\n",
    "\n",
    "if recent_high == highest:\n",
    "\thighest_value = recent_high\n",
    "\tprint(f\"52 Week High {highest_value}\")\n",
    "else:\n",
    "\thighest_value = 0\n",
    "\tprint(f\"52 Week High {highest_value}\")\n",
    "\t\n",
    "\n",
    "if recent_low == lowest:\n",
    "\tlowest_value = recent_low\n",
    "\tprint(f\"52 Week Low {lowest_value}\")\n",
    "else:\n",
    "\tlowest_value = 0\n",
    "\tprint(f\"52 Week Low {lowest_value}\")\n",
    "\t\n"
   ],
   "id": "834df7ddcf922aef",
   "outputs": [
    {
     "name": "stdout",
     "output_type": "stream",
     "text": [
      "      High    Low\n",
      "0  92.1500  90.00\n",
      "1  90.7498  89.40\n",
      "2  90.1900  87.03\n",
      "3  88.1300  86.48\n",
      "4  88.5700  84.17\n",
      "Recent high: 92.15\n",
      "Recent low: 90.0\n",
      "Sorted high: \n",
      " 99     99.7495\n",
      "84     98.6600\n",
      "100    98.5500\n",
      "98     98.4500\n",
      "102    97.9800\n",
      "Name: High, dtype: float64\n",
      "Sorted low: \n",
      " 431    36.9800\n",
      "528    40.8099\n",
      "512    40.9600\n",
      "527    41.7000\n",
      "513    41.7400\n",
      "Name: Low, dtype: float64\n",
      "Highest: 99.7495\n",
      "Lowest: 36.98\n",
      "52 Week High 0\n",
      "52 Week Low 0\n"
     ]
    }
   ],
   "execution_count": 76
  },
  {
   "metadata": {},
   "cell_type": "code",
   "outputs": [],
   "execution_count": null,
   "source": "",
   "id": "4a96ebc0ff7c9900"
  }
 ],
 "metadata": {
  "kernelspec": {
   "display_name": "Python 3",
   "language": "python",
   "name": "python3"
  },
  "language_info": {
   "codemirror_mode": {
    "name": "ipython",
    "version": 2
   },
   "file_extension": ".py",
   "mimetype": "text/x-python",
   "name": "python",
   "nbconvert_exporter": "python",
   "pygments_lexer": "ipython2",
   "version": "2.7.6"
  }
 },
 "nbformat": 4,
 "nbformat_minor": 5
}
