{
 "cells": [
  {
   "cell_type": "markdown",
   "id": "1d37a03a-12a7-464d-a1ff-349ea9d78024",
   "metadata": {},
   "source": [
    "# Graphical output\n",
    "\n",
    "We want to produce graphs for the data, ths includes data from set_1 and set_2 defined at the end of 'yfin_IQR_outliers.ipynb'. We will use the graphs to see what kinds of analyses could be interesting. \n",
    "\n",
    "We want to be considerate about our choice of plots. First, we want to see how the genral descriptives shape out. Histograms and frequency plots in general will help us see how the data is shaped. We saw that there is a high range for scores. We have not yet explored kurtosis. We should first look at how means and other scores are distributed. We should also produce boxplots to visually verify using 'set_2' over 'set_1'. It will also be interesting to compare different groups as well as see what various plots exploring associations look like.\n",
    "\n",
    "## We will look at\n",
    "1. Histograms \n",
    "    1. Means -> frequencies\n",
    "    2. Annual means\n",
    "    3. Range -> frequencies\n",
    "2. Boxplots\n",
    "    1. Range data\n",
    "    2. High and low\n",
    "3. Graphs to compare data\n",
    "    1. Variations annually\n",
    "    2. High and low\n",
    "    3. Range and high\n",
    "    4. Range and low\n",
    "    5. Open and close"
   ]
  },
  {
   "cell_type": "markdown",
   "id": "9d9447ec-ac70-4be8-af38-d0d619608960",
   "metadata": {},
   "source": [
    "## Histograms\n",
    "\n",
    "To make histograms with mean frequencies we will need to segment the data into groups such that we means that fall within certain ranges. We saw in our descriptives that there are scores ranging from just over 1 USD to 6000 USD. We need an appropriate interval to parse the data for frequencies. Arguably, groups of 10 are probably too narrow and may not be that much visually informative than interval groups parsed at 50, which may also not be helpful. \n",
    "\n",
    "We will therefore start with table to see what the frequencies are to make a decision about what intervals we need. Ultimately we want a table/dataframe that looks something like this:\n",
    "\n",
    "| Mean Interval | Interval 1 | Interval 2 | \n",
    "|---------------|-------|-------|\n",
    "| Set 1 | Count | Count | \n",
    "| Set 2 | Count | Count | \n"
   ]
  },
  {
   "cell_type": "code",
   "execution_count": 2,
   "id": "3d7e64a0-e737-4e86-8841-4e3d38323462",
   "metadata": {
    "ExecuteTime": {
     "end_time": "2023-12-21T03:46:52.718231Z",
     "start_time": "2023-12-21T03:46:42.612323Z"
    }
   },
   "outputs": [
    {
     "name": "stdout",
     "output_type": "stream",
     "text": [
      "                        Date        Open  ...  Stock Splits  Company\n",
      "0  2018-11-29 00:00:00-05:00   43.829761  ...           0.0     AAPL\n",
      "1  2018-11-29 00:00:00-05:00  104.769074  ...           0.0     MSFT\n",
      "2  2018-11-29 00:00:00-05:00   54.176498  ...           0.0    GOOGL\n",
      "3  2018-11-29 00:00:00-05:00   83.749496  ...           0.0     AMZN\n",
      "4  2018-11-29 00:00:00-05:00   39.692784  ...           0.0     NVDA\n",
      "\n",
      "[5 rows x 9 columns]\n"
     ]
    }
   ],
   "source": [
    "# Import modules and variables we need \n",
    "\n",
    "## Libraries\n",
    "import numpy as np\n",
    "import matplotlib as plt\n",
    "import pandas as pd\n",
    "\n",
    "## Original data file\n",
    "yfin_csv = pd.read_csv(r'https://raw.githubusercontent.com/alexcrockett/Jupyter-Playground/personal/yfin_dataset/02-data/stock_details_5_years.csv')\n",
    "\n",
    "## Past work\n",
    "import yfin_descriptives_py\n",
    "import yfin_group_range_py\n",
    "import yfin_IQR_outliers_py\n",
    "\n",
    "## Data\n",
    "from yfin_descriptives_py import di_mean1, di_median1, di_max_min_range, di_var1, di_std1 # import disctionaries\n",
    "from yfin_descriptives_py import x_1, x_2, x_3, x_4, x_5, x_6, x_7 # import arrays\n",
    "from yfin_group_range_py import company_averages # Averages for each company each day\n",
    "from yfin_group_range_py import company_ranges_mean # Mean range per company\n",
    "from yfin_IQR_outliers_py import set_1, set_2 # so we can call our dataframes more easily\n",
    "from yfin_IQR_outliers_py import median # median scores\n",
    "from yfin_IQR_outliers_py import first_quartile, third_quartile # First and third quartiles\n",
    "from yfin_IQR_outliers_py import yfin_restricted_set"
   ]
  },
  {
   "cell_type": "code",
   "execution_count": 7,
   "id": "a52bb440-944b-4661-a273-28213e141c7a",
   "metadata": {
    "ExecuteTime": {
     "end_time": "2023-12-21T03:47:11.277793Z",
     "start_time": "2023-12-21T03:47:11.244125Z"
    },
    "scrolled": true
   },
   "outputs": [],
   "source": [
    "# Defining initial variables and finding the overall count\n",
    "\n",
    "## Create Means lists\n",
    "\n",
    "set_1 = yfin_csv.copy() # A copy of the original data\n",
    "set_2 = yfin_restricted_set.copy() # A copy of the data without outliers\n",
    "\n",
    "set_1['set_1_means'] = (yfin_csv['High'] + yfin_csv['Low']) / 2 # Here we are defining a new column called set_1_means\n",
    "set_2['set_2_means'] = (set_2['High'] + set_2['Low']) / 2 # Here we are defining a new column called set_2_means\n"
   ]
  },
  {
   "cell_type": "code",
   "execution_count": 8,
   "id": "9f06c871-232f-4c20-8eb7-5395bdb63be5",
   "metadata": {
    "ExecuteTime": {
     "end_time": "2023-12-21T03:43:51.394138Z",
     "start_time": "2023-12-21T03:43:51.363372Z"
    }
   },
   "outputs": [
    {
     "name": "stdout",
     "output_type": "stream",
     "text": [
      "    Count   Minimum      Maximum\n",
      "0  602962  1.043654  6459.459961\n",
      "1  558932  1.043654   615.128419\n"
     ]
    }
   ],
   "source": [
    "# Creating the dataframe\n",
    "\n",
    "## First let's get counts and a max for all\n",
    "mean_freq_dict = {\n",
    "    \"Count\": [set_1['set_1_means'].count(), set_2['set_2_means'].count()],\n",
    "    \"Minimum\": [set_1['set_1_means'].min(), set_2['set_2_means'].min()],\n",
    "    \"Maximum\": [set_1['set_1_means'].max(), set_2['set_2_means'].max()]\n",
    "}\n",
    "\n",
    "mean_freq_frame = pd.DataFrame(mean_freq_dict)\n",
    "\n",
    "print(mean_freq_frame)"
   ]
  },
  {
   "cell_type": "code",
   "execution_count": null,
   "id": "d6f9c892-9e3a-4497-ad5d-fddcff73b04d",
   "metadata": {},
   "outputs": [],
   "source": []
  }
 ],
 "metadata": {
  "kernelspec": {
   "display_name": "Python 3 (ipykernel)",
   "language": "python",
   "name": "python3"
  },
  "language_info": {
   "codemirror_mode": {
    "name": "ipython",
    "version": 3
   },
   "file_extension": ".py",
   "mimetype": "text/x-python",
   "name": "python",
   "nbconvert_exporter": "python",
   "pygments_lexer": "ipython3",
   "version": "3.8.17"
  }
 },
 "nbformat": 4,
 "nbformat_minor": 5
}
