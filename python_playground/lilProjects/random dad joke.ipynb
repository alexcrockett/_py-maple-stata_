{
 "cells": [
  {
   "cell_type": "code",
   "id": "initial_id",
   "metadata": {
    "collapsed": true,
    "ExecuteTime": {
     "end_time": "2024-11-22T07:11:04.957613Z",
     "start_time": "2024-11-22T07:11:04.729654Z"
    }
   },
   "source": "import requests",
   "outputs": [],
   "execution_count": 1
  },
  {
   "metadata": {
    "ExecuteTime": {
     "end_time": "2024-11-22T07:40:37.840443Z",
     "start_time": "2024-11-22T07:40:36.013676Z"
    }
   },
   "cell_type": "code",
   "source": [
    "api_url = \"https://official-joke-api.appspot.com/random_joke\"\n",
    "response = requests.get(api_url)\n",
    "if response.status_code == 200:\n",
    "\tjoke = response.json()\n",
    "if joke:\n",
    "\tprint(f\"Here's a joke for you:\\n{joke['setup']}\")\n",
    "\tprint(f\"{joke['punchline']}\")\n",
    "else:\n",
    "\tprint(\"No joke found in the response.\")"
   ],
   "id": "c3a837f919043a7f",
   "outputs": [
    {
     "name": "stdout",
     "output_type": "stream",
     "text": [
      "Here's a joke for you:\n",
      "What do you call a boomerang that won't come back?\n",
      "A stick.\n"
     ]
    }
   ],
   "execution_count": 29
  },
  {
   "metadata": {},
   "cell_type": "code",
   "outputs": [],
   "execution_count": null,
   "source": " ",
   "id": "98f758da5582809c"
  }
 ],
 "metadata": {
  "kernelspec": {
   "display_name": "Python 3",
   "language": "python",
   "name": "python3"
  },
  "language_info": {
   "codemirror_mode": {
    "name": "ipython",
    "version": 2
   },
   "file_extension": ".py",
   "mimetype": "text/x-python",
   "name": "python",
   "nbconvert_exporter": "python",
   "pygments_lexer": "ipython2",
   "version": "2.7.6"
  }
 },
 "nbformat": 4,
 "nbformat_minor": 5
}
