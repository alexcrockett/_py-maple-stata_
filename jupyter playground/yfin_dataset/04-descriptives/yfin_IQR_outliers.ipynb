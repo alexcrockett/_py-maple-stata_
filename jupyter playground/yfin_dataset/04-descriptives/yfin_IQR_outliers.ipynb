{
 "cells": [
  {
   "cell_type": "markdown",
   "id": "282489829e915947",
   "metadata": {
    "collapsed": false,
    "jupyter": {
     "outputs_hidden": false
    }
   },
   "source": [
    "# Notes (IQR)\n",
    "\n",
    "All we are going to do in this file is compute the inter-quartile-range and create a variable that references out data without these outliers. We're also going to create a third variable that excludes companies along with the IQR.\n",
    "\n",
    "For each, we will also compute a measure of skew to see how the data are shaped.\n",
    "\n",
    "As a note, the IQR is:\n",
    "$\\text{IQR} = Q3 - Q1$\n",
    "\n",
    "Outliers are considered:\n",
    "$Q1 - \\text{IQR} \\cdot 1.5$ and $Q3 + \\text{IQR} \\cdot 1.5$ "
   ]
  },
  {
   "cell_type": "code",
   "execution_count": 2,
   "id": "7a0b6ae97ffdf8e1",
   "metadata": {
    "ExecuteTime": {
     "end_time": "2023-12-21T03:36:22.516082Z",
     "start_time": "2023-12-21T03:36:00.630699Z"
    },
    "collapsed": false,
    "jupyter": {
     "outputs_hidden": false
    }
   },
   "outputs": [
    {
     "name": "stdout",
     "output_type": "stream",
     "text": [
      "Companies in the first quartile:\n",
      "Company\n",
      "ABEV     2.947499\n",
      "BAC     30.790636\n",
      "BBD      4.368681\n",
      "BBVA     4.879372\n",
      "BCE     40.470195\n",
      "          ...    \n",
      "WFC     39.525165\n",
      "WIT      5.356330\n",
      "WMB     23.720061\n",
      "WPM     36.569403\n",
      "WY      28.026198\n",
      "Name: Average, Length: 123, dtype: float64\n",
      "-------------------\n",
      "Companies in the fourth quartile:\n",
      "Company\n",
      "ACN     249.476417\n",
      "ADBE    417.060667\n",
      "ADP     184.081445\n",
      "ADSK    215.628537\n",
      "AMGN    212.491112\n",
      "           ...    \n",
      "VRTX    247.068470\n",
      "WDAY    202.697743\n",
      "WST     270.453652\n",
      "WTW     204.263422\n",
      "ZM      173.939238\n",
      "Name: Average, Length: 123, dtype: float64\n",
      "-------------------\n",
      "Lowest company in the first quartile:\n",
      "Company\n",
      "LYG    2.102133\n",
      "Name: Average, dtype: float64\n",
      "-------------------\n",
      "Highest in the first quartile\n",
      "Company\n",
      "BK    42.263321\n",
      "Name: Average, dtype: float64\n",
      "-------------------\n",
      "Lowest company in the fourth quartile:\n",
      "Company\n",
      "VMC    155.851637\n",
      "Name: Average, dtype: float64\n",
      "-------------------\n",
      "Highest company in the fourth quartile:\n",
      "Company\n",
      "NVR    4369.584363\n",
      "Name: Average, dtype: float64\n",
      "-------------------\n",
      "Mean Range\n",
      "Company\n",
      "A       2.481682\n",
      "AAPL    2.666117\n",
      "ABBV    2.109405\n",
      "ABEV    0.082863\n",
      "ABNB    6.198645\n",
      "          ...   \n",
      "YUM     1.918100\n",
      "ZBH     2.892501\n",
      "ZM      8.445569\n",
      "ZS      6.485945\n",
      "ZTS     3.299444\n",
      "Name: Range, Length: 491, dtype: float64\n",
      "-------------------\n",
      "Min Range\n",
      "Company\n",
      "A       0.435815\n",
      "AAPL    0.281952\n",
      "ABBV    0.446642\n",
      "ABEV    0.026536\n",
      "ABNB    1.400002\n",
      "          ...   \n",
      "YUM     0.486592\n",
      "ZBH     0.889999\n",
      "ZM      0.883999\n",
      "ZS      0.619999\n",
      "ZTS     0.670361\n",
      "Name: Range, Length: 491, dtype: float64\n",
      "-------------------\n",
      "Max Range\n",
      "Company\n",
      "A       11.565640\n",
      "AAPL    12.566008\n",
      "ABBV    14.103725\n",
      "ABEV     0.610324\n",
      "ABNB    30.500000\n",
      "          ...    \n",
      "YUM     10.221042\n",
      "ZBH     15.164343\n",
      "ZM      68.179993\n",
      "ZS      59.039978\n",
      "ZTS     15.160277\n",
      "Name: Range, Length: 491, dtype: float64\n",
      "-------------------\n",
      "Standard Deviation of Range\n",
      "Company\n",
      "A       1.389413\n",
      "AAPL    1.697801\n",
      "ABBV    1.178597\n",
      "ABEV    0.038495\n",
      "ABNB    3.923734\n",
      "          ...   \n",
      "YUM     1.028575\n",
      "ZBH     1.561640\n",
      "ZM      8.151012\n",
      "ZS      4.900544\n",
      "ZTS     1.808373\n",
      "Name: Range, Length: 491, dtype: float64\n",
      "-------------------\n",
      "-------------------\n",
      "-------------------\n",
      "Company with Highest Mean Range\n",
      "Company\n",
      "NVR    119.994398\n",
      "Name: Range, dtype: float64\n",
      "-------------------\n",
      "Company with Lowest Mean Range\n",
      "Company\n",
      "LYG    0.044054\n",
      "Name: Range, dtype: float64\n",
      "-------------------\n",
      "Company with Highest Min Range\n",
      "Company\n",
      "NVR    25.780029\n",
      "Name: Range, dtype: float64\n",
      "-------------------\n",
      "Company with Lowest Min Range\n",
      "Company\n",
      "CARR    0.0\n",
      "Name: Range, dtype: float64\n",
      "-------------------\n",
      "Company with Highest Max Range\n",
      "Company\n",
      "NVR    657.209961\n",
      "Name: Range, dtype: float64\n",
      "-------------------\n",
      "Company with Lowest Max Range\n",
      "Company\n",
      "LYG    0.175404\n",
      "Name: Range, dtype: float64\n",
      "-------------------\n",
      "Company with Highest Std Range\n",
      "Company\n",
      "NVR    58.824867\n",
      "Name: Range, dtype: float64\n",
      "-------------------\n",
      "Company with Lowest Std Range\n",
      "Company\n",
      "LYG    0.019514\n",
      "Name: Range, dtype: float64\n",
      "-------------------\n",
      "Company with Highest Max Range\n",
      "Company\n",
      "NVR      657.209961\n",
      "BKNG     216.750000\n",
      "AZO      194.699951\n",
      "BIIB     182.549988\n",
      "MELI     180.000000\n",
      "CMG      135.239990\n",
      "HUBS     128.965027\n",
      "MTD      127.150024\n",
      "AVGO     121.655790\n",
      "COIN     119.540009\n",
      "FCNCA    110.360107\n",
      "SNOW      87.889999\n",
      "FICO      87.010010\n",
      "MRNA      84.096985\n",
      "REGN      81.289978\n",
      "BNTX      80.730696\n",
      "TDG       78.132938\n",
      "NOW       73.509979\n",
      "ZM        68.179993\n",
      "MSCI      67.473685\n",
      "Name: Range, dtype: float64\n",
      "-------------------\n",
      "Company with Lowest Min Range\n",
      "Company\n",
      "CARR    0.000000\n",
      "FERG    0.000000\n",
      "NWG     0.000000\n",
      "MBLY    0.000000\n",
      "SYM     0.000000\n",
      "DB      0.000000\n",
      "IBKR    0.000000\n",
      "BKR     0.000000\n",
      "CHD     0.000000\n",
      "CCI     0.000000\n",
      "BIIB    0.000000\n",
      "ALNY    0.000000\n",
      "UMC     0.007700\n",
      "LYG     0.008572\n",
      "MFG     0.010000\n",
      "WDS     0.015389\n",
      "BBVA    0.016174\n",
      "TEF     0.016342\n",
      "SAN     0.018170\n",
      "NOK     0.018910\n",
      "Name: Range, dtype: float64\n",
      "-------------------\n"
     ]
    }
   ],
   "source": [
    "# Importing libraries and variables\n",
    "\n",
    "import pandas as pd\n",
    "yfin_csv = pd.read_csv(r'https://raw.githubusercontent.com/alexcrockett/Jupyter-Playground/personal/yfin_dataset/02-data/stock_details_5_years.csv')\n",
    "from yfin_group_range_py import company_averages, first_quartile, fourth_quartile, companies_in_first_quartile, companies_in_fourth_quartile"
   ]
  },
  {
   "cell_type": "code",
   "execution_count": 3,
   "id": "790c3461b8b8f25e",
   "metadata": {
    "ExecuteTime": {
     "end_time": "2023-12-21T03:36:22.525442Z",
     "start_time": "2023-12-21T03:36:22.517503Z"
    },
    "collapsed": false,
    "jupyter": {
     "outputs_hidden": false
    }
   },
   "outputs": [
    {
     "name": "stdout",
     "output_type": "stream",
     "text": [
      "IQR=  112.21191762678677\n"
     ]
    }
   ],
   "source": [
    "# Defining the IQR\n",
    "\n",
    "## Define the 3rd Quartile and median\n",
    "median = company_averages.quantile(0.5)  # The median (50th percentile)\n",
    "third_quartile = fourth_quartile  # The third quartile (75th percentile)\n",
    "\n",
    "## Define companies in the third quartile\n",
    "companies_in_third_quartile = company_averages[(company_averages > median) & (company_averages <= third_quartile)]\n",
    "\n",
    "# Define the IQR\n",
    "IQR = third_quartile - first_quartile\n",
    "\n",
    "print(\"IQR= \", float(str(IQR)))"
   ]
  },
  {
   "cell_type": "code",
   "execution_count": 4,
   "id": "ae5ebe8b499a1cb6",
   "metadata": {
    "ExecuteTime": {
     "end_time": "2023-12-21T03:36:22.587627Z",
     "start_time": "2023-12-21T03:36:22.528043Z"
    },
    "collapsed": false,
    "jupyter": {
     "outputs_hidden": false
    }
   },
   "outputs": [],
   "source": [
    "# Finding outliers\n",
    "outlier_scope = 1.5 * IQR \n",
    "\n",
    "## Calculate the lower bound for outliers\n",
    "outlier_lower_bound = first_quartile - outlier_scope\n",
    "\n",
    "## Identify outliers below the lower bound\n",
    "outliers_lower = company_averages[company_averages < outlier_lower_bound]\n",
    "\n",
    "# -----\n",
    "\n",
    "## Calculate the upper bound for outliers\n",
    "outlier_upper_bound = third_quartile + outlier_scope\n",
    "\n",
    "## Identify outliers below the lower bound\n",
    "outliers_upper = company_averages[company_averages > outlier_upper_bound]"
   ]
  },
  {
   "cell_type": "code",
   "execution_count": 5,
   "id": "bd4315004837a395",
   "metadata": {
    "ExecuteTime": {
     "end_time": "2023-12-21T03:36:22.603982Z",
     "start_time": "2023-12-21T03:36:22.541111Z"
    },
    "collapsed": false,
    "jupyter": {
     "outputs_hidden": false
    }
   },
   "outputs": [
    {
     "name": "stdout",
     "output_type": "stream",
     "text": [
      "Median:  80.71573753680524\n",
      "--------------------\n",
      "IQR:  112.21191762678677\n",
      "--------------------\n",
      "Outliers Scope:  168.31787644018016\n",
      "--------------------\n",
      " \n",
      "--------------------\n",
      "Outliers in the lower bound:\n",
      "Series([], Name: Average, dtype: float64)\n",
      "-------------------\n",
      "Outliers in the upper bound:\n",
      "Company\n",
      "ADBE      417.060667\n",
      "ASML      477.955218\n",
      "AVGO      445.429283\n",
      "AZO      1644.378406\n",
      "BKNG     2126.701202\n",
      "BLK       604.947085\n",
      "CHTR      495.415442\n",
      "CMG      1324.127961\n",
      "COST      394.662326\n",
      "CTAS      343.310389\n",
      "ELV       363.485461\n",
      "EQIX      638.804183\n",
      "FCNCA     702.096642\n",
      "FICO      473.674489\n",
      "GWW       434.757946\n",
      "HUBS      357.071477\n",
      "HUM       401.488365\n",
      "IDXX      410.794145\n",
      "INTU      381.231062\n",
      "LMT       369.306409\n",
      "LRCX      423.009993\n",
      "MELI     1032.599313\n",
      "MPWR      329.397594\n",
      "MSCI      400.496638\n",
      "MTD      1106.778430\n",
      "NFLX      398.320630\n",
      "NOC       365.952027\n",
      "NOW       439.452921\n",
      "NVR      4369.584363\n",
      "REGN      567.491359\n",
      "SPGI      326.449222\n",
      "TDG       552.684847\n",
      "TMO       448.295794\n",
      "ULTA      345.397342\n",
      "UNH       376.816534\n",
      "Name: Average, dtype: float64\n",
      "-------------------\n"
     ]
    }
   ],
   "source": [
    "# Review the results\n",
    "print(\"Median: \", median)\n",
    "print(\"--------------------\")\n",
    "\n",
    "print(\"IQR: \", float(str(IQR)))\n",
    "print(\"--------------------\")\n",
    "\n",
    "print(\"Outliers Scope: \", outlier_scope)\n",
    "print(\"--------------------\")\n",
    "\n",
    "print(\" \") # Add a little space for reading\n",
    "\n",
    "print(\"--------------------\")\n",
    "print(\"Outliers in the lower bound:\")\n",
    "print(outliers_lower)\n",
    "print(\"-------------------\")\n",
    "\n",
    "print(\"Outliers in the upper bound:\")\n",
    "print(outliers_upper)\n",
    "print(\"-------------------\")\n"
   ]
  },
  {
   "cell_type": "code",
   "execution_count": 6,
   "id": "84025ad4cffcf47b",
   "metadata": {
    "ExecuteTime": {
     "end_time": "2023-12-21T03:36:22.698897Z",
     "start_time": "2023-12-21T03:36:22.588655Z"
    },
    "collapsed": false,
    "jupyter": {
     "outputs_hidden": false
    }
   },
   "outputs": [],
   "source": [
    "# Create a new dataframe without the outliers\n",
    "\n",
    "## Map companies to outliers\n",
    "outlier_companies = outliers_upper.index\n",
    "\n",
    "## Remove the comapnies\n",
    "yfin_restricted_set = yfin_csv[~yfin_csv['Company'].isin(outlier_companies)]"
   ]
  },
  {
   "cell_type": "markdown",
   "id": "71c73de9a4bd780a",
   "metadata": {
    "collapsed": false,
    "jupyter": {
     "outputs_hidden": false
    }
   },
   "source": [
    "# Notes\n",
    "`outliers_upper.index` gives you the names of the companies that are outliers.\n",
    "\n",
    "`yfin_csv['Company'].isin(outlier_companies)` creates a boolean mask where each row is `True` if the company is in the list of outliers and `False` otherwise.\n",
    "\n",
    "The `~` operator negates the boolean mask, so you select all rows where the company is not an outlier.\n",
    "\n",
    "`yfin_csv[...]` with this mask removes the rows corresponding to outlier companies."
   ]
  },
  {
   "cell_type": "code",
   "execution_count": 7,
   "id": "427251efb9261942",
   "metadata": {
    "ExecuteTime": {
     "end_time": "2023-12-21T03:36:22.779304Z",
     "start_time": "2023-12-21T03:36:22.693995Z"
    },
    "collapsed": false,
    "jupyter": {
     "outputs_hidden": false
    }
   },
   "outputs": [
    {
     "name": "stdout",
     "output_type": "stream",
     "text": [
      "mean open: 96.44\n",
      "mean high: 97.64\n",
      "mean low: 95.22\n",
      "mean close: 96.45\n",
      "median open: 96.44\n",
      "median high: 97.64\n",
      "median low: 95.22\n",
      "median close: 96.45\n"
     ]
    }
   ],
   "source": [
    "# Revaluate the mean and median scores\n",
    "\n",
    "## Means\n",
    "mean_open_restricted = yfin_restricted_set['Open'].mean() # mean Open\n",
    "mean_high_restricted = yfin_restricted_set['High'].mean() # mean High\n",
    "mean_low_restricted = yfin_restricted_set['Low'].mean() # mean Low\n",
    "mean_close_restricted = yfin_restricted_set['Close'].mean() # mean Close\n",
    "\n",
    "## Medians\n",
    "median_open_restricted = yfin_restricted_set['Open'].mean() # median Open\n",
    "median_high_restricted = yfin_restricted_set['High'].mean() # median High\n",
    "median_low_restricted = yfin_restricted_set['Low'].mean() # median Low\n",
    "median_close_restricted = yfin_restricted_set['Close'].mean() # median Close\n",
    "\n",
    "## Define a set of values to print\n",
    "central_tendency_restricted = {\n",
    "    \"mean open\": mean_open_restricted,\n",
    "    \"mean high\": mean_high_restricted,\n",
    "    \"mean low\": mean_low_restricted,\n",
    "    \"mean close\": mean_close_restricted,\n",
    "    \"median open\": median_open_restricted,\n",
    "    \"median high\": median_high_restricted,\n",
    "    \"median low\": median_low_restricted,\n",
    "    \"median close\": median_close_restricted\n",
    "}\n",
    "\n",
    "# Print the results\n",
    "for key, value in central_tendency_restricted.items():\n",
    "    print(f\"{key}: {value:.2f}\")"
   ]
  },
  {
   "cell_type": "markdown",
   "id": "32abdbdf71127134",
   "metadata": {
    "collapsed": false,
    "jupyter": {
     "outputs_hidden": false
    }
   },
   "source": [
    "# Notes\n",
    "\n",
    "We can see that the gap between mean and median scores has radiacally reduced by removing ~35 companies from the set of 500. \n",
    "\n",
    "This gives us the data-sets\n",
    "- yfin_csv\n",
    "- yfin_restricted_set\n",
    "\n",
    "We want one more set, a set without the outliers and without scores that have extreme ranges. We will also want to rename our datasets so they're easier to type. We will call them \n",
    "- set_1\n",
    "- set_2\n",
    "- set_3"
   ]
  },
  {
   "cell_type": "code",
   "execution_count": 8,
   "id": "943c4b662b374892",
   "metadata": {
    "ExecuteTime": {
     "end_time": "2023-12-21T03:36:22.876089Z",
     "start_time": "2023-12-21T03:36:22.738155Z"
    },
    "collapsed": false,
    "jupyter": {
     "outputs_hidden": false
    }
   },
   "outputs": [],
   "source": [
    "# Finding range outliers\n",
    "\n",
    "# Calculate the range (High - Low) for each row\n",
    "yfin_csv['Range'] = yfin_csv['High'] - yfin_csv['Low']\n",
    "\n",
    "# Calculate median and quartiles of the range\n",
    "range_median = yfin_csv['Range'].median()\n",
    "range_quartile_1 = yfin_csv['Range'].quantile(0.25)\n",
    "range_quartile_3 = yfin_csv['Range'].quantile(0.75)\n",
    "\n",
    "# Calculate the Interquartile Range (IQR)\n",
    "range_IQR = range_quartile_3 - range_quartile_1\n",
    "\n",
    "# Calculate the bounds for outliers\n",
    "range_outlier_lower_bound = range_quartile_1 - 1.5 * range_IQR\n",
    "range_outlier_upper_bound = range_quartile_3 + 1.5 * range_IQR\n",
    "\n",
    "# Identify outliers\n",
    "range_outliers_lower = yfin_csv[yfin_csv['Range'] < range_outlier_lower_bound]\n",
    "range_outliers_upper = yfin_csv[yfin_csv['Range'] > range_outlier_upper_bound]\n",
    "\n",
    "# Get the company names that are outliers\n",
    "outlier_companies_lower = range_outliers_lower['Company']\n",
    "outlier_companies_upper = range_outliers_upper['Company']\n",
    "\n",
    "# Combine the lists of outlier companies\n",
    "outlier_companies = pd.concat([outlier_companies_lower, outlier_companies_upper]).unique()\n",
    "\n",
    "outlier_companies_count = outlier_companies.shape\n",
    "\n",
    "# Remove these companies from the original DataFrame\n",
    "yfin_restricted_range = yfin_csv[~yfin_csv['Company'].isin(outlier_companies)]\n"
   ]
  },
  {
   "cell_type": "code",
   "execution_count": 9,
   "id": "725a1604-1aa2-4714-909b-477e841d689d",
   "metadata": {
    "ExecuteTime": {
     "end_time": "2023-12-21T03:36:22.890577Z",
     "start_time": "2023-12-21T03:36:22.882668Z"
    }
   },
   "outputs": [
    {
     "name": "stdout",
     "output_type": "stream",
     "text": [
      "-------------------\n",
      " \n",
      "Median Range\n",
      "1.6776984346780495\n",
      "-------------------\n",
      "Range IQR\n",
      "2.9332035628331656\n",
      "-------------------\n",
      " \n",
      "-------------------\n",
      "Lower bound outliers\n",
      "Series([], Name: Company, dtype: object)\n",
      "-------------------\n",
      "Upper bound outliers\n",
      "35         NFLX\n",
      "67           BA\n",
      "96         BKNG\n",
      "129        MELI\n",
      "179         CMG\n",
      "          ...  \n",
      "602883     HUBS\n",
      "602895      MTD\n",
      "602932    FCNCA\n",
      "602933      MOH\n",
      "602954      NVR\n",
      "Name: Company, Length: 53589, dtype: object\n",
      "-------------------\n",
      " \n",
      "-------------------\n",
      "outlier companies\n",
      "['NFLX' 'BA' 'BKNG' 'MELI' 'CMG' 'CHTR' 'TDG' 'AZO' 'MTD' 'MOH' 'BGNE'\n",
      " 'NVR' 'REGN' 'WDAY' 'BIIB' 'SPLK' 'ADBE' 'LMT' 'HUM' 'EL' 'TTWO' 'ULTA'\n",
      " 'UNH' 'MA' 'TMO' 'BABA' 'INTU' 'NOW' 'BLK' 'ELV' 'ISRG' 'DE' 'LRCX'\n",
      " 'VRTX' 'CI' 'EQIX' 'NOC' 'FDX' 'CTAS' 'PH' 'LULU' 'ADSK' 'BIDU' 'IDXX'\n",
      " 'GWW' 'AMP' 'SPOT' 'URI' 'MLM' 'VEEV' 'FICO' 'MPWR' 'HUBS' 'FCNCA' 'AVGO'\n",
      " 'CRM' 'MDB' 'ICLR' 'COST' 'ANSS' 'JNJ' 'HCA' 'META' 'ASML' 'ALNY' 'TEAM'\n",
      " 'GS' 'BDX' 'PXD' 'NSC' 'SBAC' 'STZ' 'CDW' 'WAB' 'MCD' 'AMGN' 'SHW' 'RACE'\n",
      " 'MSCI' 'AON' 'IT' 'SPGI' 'IQV' 'EA' 'IFF' 'ARGX' 'SQ' 'LIN' 'ZS' 'QCOM'\n",
      " 'SYK' 'ZM' 'GD' 'MCO' 'ODFL' 'VRSN' 'LHX' 'MCK' 'DD' 'CRWD' 'MMM' 'HSY'\n",
      " 'ECL' 'DLTR' 'MSI' 'WTW' 'KLAC' 'KEYS' 'HEI' 'AMT' 'APD' 'STE' 'CME'\n",
      " 'GPN' 'SGEN' 'RCL' 'EFX' 'ITW' 'ROK' 'DIS' 'TGT' 'SNPS' 'LYV' 'KMB' 'MTB'\n",
      " 'EW' 'TSLA' 'ICE' 'CCI' 'FIS' 'WST' 'PSA' 'MSFT' 'V' 'HD' 'ACN' 'HON'\n",
      " 'MAR' 'UNP' 'MRNA' 'AVB' 'GE' 'ADP' 'DG' 'WMT' 'DLR' 'VRSK' 'RMD' 'DHR'\n",
      " 'AXP' 'PNC' 'TT' 'ZBH' 'CAT' 'CB' 'HES' 'VLO' 'OKE' 'AME' 'FNV' 'TSCO'\n",
      " 'LOW' 'AWK' 'HLT' 'LLY' 'JPM' 'PG' 'PEP' 'FMX' 'TMUS' 'UPS' 'RTX' 'PLD'\n",
      " 'DEO' 'DUK' 'PYPL' 'AJG' 'NXPI' 'WELL' 'SPG' 'DXCM' 'AEP' 'TEL' 'TRV'\n",
      " 'CNC' 'VMC' 'WEC' 'CHD' 'BR' 'DTE' 'ES' 'TXN' 'ADI' 'ETN' 'ZTS' 'FI'\n",
      " 'ROST' 'COR' 'ALL' 'TROW' 'ETR' 'SAP' 'ABT' 'NKE' 'IBM' 'WM' 'PSX' 'NEM'\n",
      " 'COF' 'O' 'XEL' 'CMI' 'LYB' 'EXR' 'AEM' 'BNTX' 'DOV' 'AMZN' 'D' 'YUM'\n",
      " 'ED' 'AEE' 'CVX' 'PM' 'MMC' 'APO' 'PAYX' 'PPG' 'FTV' 'DAL' 'APTV' 'HIG'\n",
      " 'SBUX' 'TJX' 'SYY' 'LVS' 'TW' 'GILD' 'CNI' 'MDT' 'AFL' 'SHOP' 'DDOG'\n",
      " 'PDD' 'SE' 'CSGP' 'GRMN' 'PINS' 'BEKE' 'AAPL' 'NVDA' 'CDNS' 'SNOW' 'NET'\n",
      " 'TTD' 'PGR' 'JD' 'EQR' 'RYAAY' 'LI' 'DASH' 'ABNB' 'TSM' 'PLTR' 'WBD'\n",
      " 'SNAP' 'PANW' 'AMAT' 'RBLX' 'CPNG' 'LEN' 'COIN' 'NTES' 'AMD' 'NUE' 'ABBV'\n",
      " 'DFS' 'GOOGL' 'RSG' 'ANET' 'GFS' 'BX' 'TM' 'PWR' 'STT' 'FANG' 'EOG' 'A'\n",
      " 'LNG' 'FTNT' 'OXY' 'FERG' 'COP' 'NTR' 'SYM' 'WCN' 'RJF' 'DVN' 'GEHC'\n",
      " 'XOM' 'SCHW' 'DHI' 'PKX' 'ORCL' 'ARM' 'ON']\n",
      "count:  (306,)\n"
     ]
    }
   ],
   "source": [
    "# Print the results\n",
    "print(\"-------------------\")\n",
    "print(\" \")\n",
    "print(\"Median Range\")\n",
    "print(range_median)\n",
    "print(\"-------------------\")\n",
    "print(\"Range IQR\")\n",
    "print(range_IQR)\n",
    "print(\"-------------------\")\n",
    "print(\" \")\n",
    "print(\"-------------------\")\n",
    "print(\"Lower bound outliers\")\n",
    "print(outlier_companies_lower)\n",
    "print(\"-------------------\")\n",
    "print(\"Upper bound outliers\")\n",
    "print(outlier_companies_upper)\n",
    "print(\"-------------------\")\n",
    "print(\" \")\n",
    "print(\"-------------------\")\n",
    "print(\"outlier companies\")\n",
    "print(outlier_companies)\n",
    "\n",
    "print(\"count: \", outlier_companies_count)"
   ]
  },
  {
   "cell_type": "markdown",
   "id": "22deeda1-563e-4a8c-9f1a-4ce0847e4251",
   "metadata": {},
   "source": [
    "There are 306 companies in this list, which suggests a serious problem with the method. The result seems to indicate that based on the calculations, most of the dataset falls outside the IQR, which indicates either, the method os is not useful in this context.\n",
    "\n",
    "One interpretation is that segmenting the company stock market prices and using this method for financial data like this will lead to a large number of false postives due to the thickness of the tails inherent in this kind of data. It is also possible that given that the data stretches from 2018 to 2023, both the Pandemic and the 2020 election will have played a role. These are testable hypotheses and graphical analysis of the data will help determine if more specificity in the procedure, or extending the bounds for outliers will be useful."
   ]
  },
  {
   "cell_type": "code",
   "execution_count": 10,
   "id": "a16f703a-3b79-4b74-8f00-909c725d23ab",
   "metadata": {
    "ExecuteTime": {
     "end_time": "2023-12-21T03:36:22.921685Z",
     "start_time": "2023-12-21T03:36:22.891002Z"
    }
   },
   "outputs": [],
   "source": [
    "# Renaming datasets\n",
    "\n",
    "set_1 = yfin_csv.copy() # A copy of the original data\n",
    "set_2 = yfin_restricted_set.copy() # A copy of the data without outliers"
   ]
  },
  {
   "cell_type": "code",
   "execution_count": 10,
   "id": "d08d8659-57eb-4823-bf27-920bc742146e",
   "metadata": {
    "ExecuteTime": {
     "end_time": "2023-12-21T03:36:22.923336Z",
     "start_time": "2023-12-21T03:36:22.901845Z"
    }
   },
   "outputs": [],
   "source": []
  }
 ],
 "metadata": {
  "kernelspec": {
   "display_name": "Python 3 (ipykernel)",
   "language": "python",
   "name": "python3"
  },
  "language_info": {
   "codemirror_mode": {
    "name": "ipython",
    "version": 3
   },
   "file_extension": ".py",
   "mimetype": "text/x-python",
   "name": "python",
   "nbconvert_exporter": "python",
   "pygments_lexer": "ipython3",
   "version": "3.8.17"
  }
 },
 "nbformat": 4,
 "nbformat_minor": 5
}
