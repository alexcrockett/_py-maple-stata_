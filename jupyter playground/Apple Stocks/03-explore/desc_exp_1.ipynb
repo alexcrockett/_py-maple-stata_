{
 "cells": [
  {
   "cell_type": "markdown",
   "metadata": {
    "collapsed": false,
    "jupyter": {
     "outputs_hidden": false
    }
   },
   "source": [
    "# Notes:\n",
    "This file will run through some descriptive analysis on stock prices. \n",
    "Further analysis will be iin other files.\n",
    "\n",
    "## Description\n",
    "Here we are going to do a number of things.\n",
    "1. We will import a spreadsheet\n",
    "2. We will do some statistics in pandas\n",
    "3. We will then use the spreadsheet to define an array in numpy\n",
    "4. We will manipulate the array in numpy\n",
    "\n",
    "## List of descriptive statistics\n",
    "- Means\n",
    "- Maximums\n",
    "- Minimums\n",
    "- Counts\n",
    "- Medians\n",
    "- Standard deviation \n",
    "- Variance "
   ]
  },
  {
   "cell_type": "code",
   "execution_count": 9,
   "metadata": {
    "ExecuteTime": {
     "end_time": "2023-12-12T01:29:25.469537Z",
     "start_time": "2023-12-12T01:29:25.433972Z"
    },
    "collapsed": false,
    "jupyter": {
     "outputs_hidden": false
    }
   },
   "outputs": [
    {
     "name": "stdout",
     "output_type": "stream",
     "text": [
      "         Date    Open    High     Low   Close    Volume  Adj Close\n",
      "0    1/3/2011  325.64  330.26  324.84  329.57  15883600     329.57\n",
      "1    1/4/2011  332.44  332.50  328.15  331.29  11038600     331.29\n",
      "2    1/5/2011  329.55  334.34  329.50  334.00   9058700     334.00\n",
      "3    1/6/2011  334.72  335.25  332.90  333.73  10709500     333.73\n",
      "4    1/7/2011  333.99  336.35  331.90  336.12  11096800     336.12\n",
      "5   1/10/2011  338.83  343.23  337.17  342.45  16000400     342.45\n",
      "6   1/11/2011  344.88  344.96  339.47  341.64  15814500     341.64\n",
      "7   1/12/2011  343.25  344.43  342.00  344.42  10790700     344.42\n",
      "8   1/13/2011  345.16  346.64  343.85  345.68  10599300     345.68\n",
      "9   1/14/2011  345.89  348.48  344.44  348.48  10998600     348.48\n",
      "10  1/18/2011  329.52  344.76  326.00  340.65  66831600     340.65\n",
      "11  1/19/2011  348.35  348.60  336.88  338.84  40494700     338.84\n",
      "12  1/20/2011  336.43  338.30  330.12  332.68  27290500     332.68\n",
      "13  1/21/2011  333.77  334.88  326.63  326.72  26915000     326.72\n",
      "14  1/24/2011  326.87  337.45  326.72  337.45  20500100     337.45\n",
      "15  1/25/2011  336.33  341.44  334.57  341.40  19436600     341.40\n",
      "16  1/26/2011  342.96  345.60  341.50  343.85  18084500     343.85\n",
      "17  1/27/2011  343.78  344.69  342.83  343.21  10169300     343.21\n",
      "18  1/28/2011  344.17  344.40  333.53  336.10  21116400     336.10\n",
      "19  1/31/2011  335.80  340.04  334.30  339.32  13461000     339.32\n",
      "20   2/1/2011  341.30  345.65  340.98  345.03  15221100     345.03\n",
      "21   2/2/2011  344.45  345.25  343.55  344.32   9238300     344.32\n",
      "22   2/3/2011  343.80  344.24  338.55  343.44  14043100     343.44\n",
      "23   2/4/2011  343.64  346.70  343.51  346.50  11479800     346.50\n",
      "24   2/7/2011  347.89  353.25  347.64  351.88  17299100     351.88\n",
      "25   2/8/2011  353.68  355.52  352.15  355.20  13579500     355.20\n",
      "26   2/9/2011  355.19  359.00  354.87  358.16  17222400     358.16\n",
      "27  2/10/2011  357.39  360.00  348.00  354.54  33126100     354.54\n",
      "28  2/11/2011  354.75  357.80  353.54  356.85  13114400     356.85\n",
      "29  2/14/2011  356.79  359.48  356.71  359.18  11073100     359.18\n",
      "30  2/15/2011  359.19  359.97  357.55  359.90  10126300     359.90\n",
      "31  2/16/2011  360.80  364.90  360.50  363.13  17044800     363.13\n",
      "32  2/17/2011  357.25  360.27  356.52  358.30  18918900     358.30\n",
      "33  2/18/2011  358.71  359.50  349.52  350.56  29077700     350.56\n"
     ]
    }
   ],
   "source": [
    "import numpy as np\n",
    "import pandas as pd\n",
    "apples = pd.read_csv('/Users/Alex/PycharmProjects/Jupyter_Playground/Apple Stocks/02-data/AppleStockPrices.csv')\n",
    "print(apples)"
   ]
  },
  {
   "cell_type": "code",
   "execution_count": 28,
   "metadata": {
    "ExecuteTime": {
     "end_time": "2023-12-12T02:35:07.908089Z",
     "start_time": "2023-12-12T02:35:07.876460Z"
    },
    "collapsed": false,
    "jupyter": {
     "outputs_hidden": false
    }
   },
   "outputs": [],
   "source": [
    "# Producing the descriptive statistics\n",
    "\n",
    "## Count\n",
    "values_count = apples['Open'].count() # Count Open\n",
    "\n",
    "## Mean ------------------------------------------------------------------------------------------------\n",
    "\n",
    "## Mean, per column variables\n",
    "mean_open = apples['Open'].mean() # Mean Open\n",
    "mean_high = apples['High'].mean() # Mean High\n",
    "mean_low = apples['Low'].mean() # Mean Low\n",
    "mean_close = apples['Close'].mean() # Mean Close\n",
    "mean_volume = apples['Volume'].mean()\n",
    "\n",
    "## Mean dictionary for mean\n",
    "mean_values = {\n",
    "    \"Mean Open\": apples['Open'].mean(), # Mean Open\n",
    "    \"Mean High\": apples['High'].mean(), # Mean High\n",
    "    \"Mean Low\": apples['Low'].mean(), # Mean Low\n",
    "    \"Mean Close\": apples['Close'].mean(), # Mean Close\n",
    "}\n",
    "\n",
    "## Median ------------------------------------------------------------------------------------------------\n",
    "\n",
    "### Per-column variables median\n",
    "median_open = apples['Open'].median() # Max Open\n",
    "median_high = apples['High'].median() # Max High\n",
    "median_low = apples['Low'].median() # Max Low\n",
    "median_close = apples['Close'].median() # Max Close\n",
    "median_volume = apples['Volume'].median() # Max Volume\n",
    "\n",
    "### Dictionary median\n",
    "median_values = {\n",
    "    \"Median Open\": apples['Open'].median(), # Median Open\n",
    "    \"Median High\": apples['High'].median(), # Median High\n",
    "    \"Median Low\": apples['Low'].median(), # Median Low\n",
    "    \"Median Close\": apples['Close'].median(), # Median Close\n",
    "}\n",
    "\n",
    "## max, min and range ------------------------------------------------------------------------------------------------\n",
    "\n",
    "### Per-column variables max, min, range\n",
    "\n",
    "#### Max\n",
    "max_open = apples['Open'].max() # Max Open\n",
    "max_high = apples['High'].max() # Max High\n",
    "max_low = apples['Low'].max() # Max Low\n",
    "max_close = apples['Close'].max() # Max Close\n",
    "max_volume = apples['Volume'].max() # Max Volume\n",
    "\n",
    "#### Min\n",
    "min_open = apples['Open'].min() # Min Open\n",
    "min_high = apples['High'].min() # Min High\n",
    "min_low = apples['Low'].min() # Min Low\n",
    "min_close = apples['Close'].min() # Min Close\n",
    "min_volume = apples['Volume'].min() # Min Volume\n",
    "\n",
    "#### Range\n",
    "range_open = abs(max_open - min_open) # Range Open\n",
    "range_high = abs(max_high - min_high) # Range High\n",
    "range_low = abs(max_low - min_low) # Range Low\n",
    "range_close = abs(max_close - min_close) # Range Close\n",
    "range_volume = abs(max_volume - min_volume) # Range Volume\n",
    "\n",
    "### Dictionary Max, Min, Range\n",
    "range_max_min = {\n",
    "    \"Max Open\": apples['Open'].max(), # Max Open\n",
    "    \"Min Open\": apples['Open'].min(), # Min Open\n",
    "    \"Range Open\": range_open, # Range Open\n",
    "    \"Max High\": apples['High'].max(), # Max High\n",
    "    \"Min High\": apples['High'].min(), # Min High\n",
    "    \"Range High\": range_high, # Range High\n",
    "    \"Max Low\": apples['Low'].max(), # Max Low\n",
    "    \"Min Low\": apples['Low'].min(), # Min Low\n",
    "    \"Range Low\": range_low, # Range Low\n",
    "    \"Max Close\": apples['Close'].max(), # Max Close\n",
    "    \"Min Close\": apples['Close'].min(), # Min Close\n",
    "    \"Range Close\": range_close # Range Close\n",
    "}\n",
    "\n",
    "## Variance ------------------------------------------------------------------------------------------------\n",
    "\n",
    "## Variance ind. columns\n",
    "var_open = apples['Open'].var() # var Open\n",
    "var_high = apples['High'].var() # var High\n",
    "var_low = apples['Low'].var() # var Low\n",
    "var_close = apples['Close'].var() # var Close\n",
    "var_volume = apples['Volume'].var() # var Volume\n",
    "\n",
    "## Variance dict.\n",
    "var_dict = {\n",
    "    \"Variance Open\": apples['Open'].var(), # var Open\n",
    "    \"Variance High\": apples['High'].var(), # var High\n",
    "    \"Variance Low\": apples['Low'].var(), # var Low\n",
    "    \"SVariance Close\": apples['Close'].var(), # var Close\n",
    "}\n",
    "\n",
    "## Standard Deviation ------------------------------------------------------------------------------------------------\n",
    "\n",
    "### std.dev ind. columns\n",
    "std_open = apples['Open'].std() # Std Open\n",
    "std_high = apples['High'].std() # Std High\n",
    "std_low = apples['Low'].std() # Std Low\n",
    "std_close = apples['Close'].std() # Std Close\n",
    "std_volume = apples['Volume'].std() # Std Volume\n",
    "\n",
    "### Std. Dict. \n",
    "std_dev_dict = {\n",
    "    \"Std.Dev Open\": apples['Open'].std(), # Std Open\n",
    "    \"Std.Dev High\": apples['High'].std(), # Std High\n",
    "    \"Std.Dev Low\": apples['Low'].std(), # Std Low\n",
    "    \"Std.Dev Close\": apples['Close'].std(), # Std Close\n",
    "}\n",
    "\n",
    "# Divider ------------------------------------------------------------------------------------------------\n"
   ]
  },
  {
   "cell_type": "code",
   "execution_count": 29,
   "metadata": {
    "ExecuteTime": {
     "end_time": "2023-12-12T02:35:10.403938Z",
     "start_time": "2023-12-12T02:35:10.374907Z"
    },
    "collapsed": false,
    "jupyter": {
     "outputs_hidden": false
    }
   },
   "outputs": [
    {
     "name": "stdout",
     "output_type": "stream",
     "text": [
      "Count:  34\n",
      "--------------------\n",
      "Mean Open: 343.74\n",
      "Mean High: 346.71\n",
      "Mean Low: 340.91\n",
      "Mean Close: 344.55\n",
      "--------------------\n",
      "Median Open: 343.79\n",
      "Median High: 345.11\n",
      "Median Low: 341.24\n",
      "Median Close: 343.64\n",
      "--------------------\n",
      "Max Open: 360.80\n",
      "Min Open: 325.64\n",
      "Range Open: 35.16\n",
      "Max High: 364.90\n",
      "Min High: 330.26\n",
      "Range High: 34.64\n",
      "Max Low: 360.50\n",
      "Min Low: 324.84\n",
      "Range Low: 35.66\n",
      "Max Close: 363.13\n",
      "Min Close: 326.72\n",
      "Range Close: 36.41\n",
      "--------------------\n",
      "Variance Open: 100.39\n",
      "Variance High: 87.03\n",
      "Variance Low: 104.89\n",
      "SVariance Close: 91.70\n",
      "--------------------\n",
      "Std.Dev Open: 10.02\n",
      "Std.Dev High: 9.33\n",
      "Std.Dev Low: 10.24\n",
      "Std.Dev Close: 9.58\n",
      "--------------------\n"
     ]
    }
   ],
   "source": [
    "# Printing\n",
    "\n",
    "## Print count\n",
    "print(\"Count: \", values_count)\n",
    "\n",
    "### Print a seperator \n",
    "print(\"--------------------\")\n",
    "\n",
    "## Print Mean\n",
    "for key, value in mean_values.items():\n",
    "    print(f\"{key}: {value:.2f}\")\n",
    "\n",
    "### Print a seperator \n",
    "print(\"--------------------\")\n",
    "\n",
    "## Print Median\n",
    "for key, value in median_values.items():\n",
    "    print(f\"{key}: {value:.2f}\")\n",
    "\n",
    "### Print a seperator \n",
    "print(\"--------------------\")\n",
    "\n",
    "## Print max, min, range\n",
    "for key, value in range_max_min.items():\n",
    "    print(f\"{key}: {value:.2f}\")\n",
    "\n",
    "### Print a seperator \n",
    "print(\"--------------------\")\n",
    "\n",
    "\n",
    "## Print Variance\n",
    "for key, value in var_dict.items():\n",
    "    print(f\"{key}: {value:.2f}\")\n",
    "\n",
    "### Print a seperator \n",
    "print(\"--------------------\")\n",
    "\n",
    "## Print Standard Deviation\n",
    "for key, value in std_dev_dict.items():\n",
    "    print(f\"{key}: {value:.2f}\")\n",
    "\n",
    "### Print a seperator \n",
    "print(\"--------------------\")\n",
    "\n",
    "# Divider ------------------------------------------------------------------------------------------------"
   ]
  },
  {
   "cell_type": "code",
   "execution_count": 30,
   "metadata": {
    "ExecuteTime": {
     "end_time": "2023-12-12T02:35:11.444035Z",
     "start_time": "2023-12-12T02:35:11.421847Z"
    },
    "collapsed": false,
    "jupyter": {
     "outputs_hidden": false
    }
   },
   "outputs": [
    {
     "name": "stdout",
     "output_type": "stream",
     "text": [
      "Mean array\n",
      "[['343.74']\n",
      " ['346.71']\n",
      " ['340.91']\n",
      " ['344.55']]\n"
     ]
    }
   ],
   "source": [
    "# Mean Array\n",
    "mean_array = x_1 = np.array([format(mean_open, \".2f\"), format(mean_high, \".2f\"), format(mean_low, \".2f\"), format(mean_close, \".2f\")]) #define array\n",
    "x_1 = mean_array.reshape((-1, 1)) # Transpose array\n",
    "\n",
    "print('Mean array')\n",
    "print(x_1)"
   ]
  },
  {
   "cell_type": "code",
   "execution_count": 31,
   "metadata": {
    "ExecuteTime": {
     "end_time": "2023-12-12T02:35:12.350158Z",
     "start_time": "2023-12-12T02:35:12.320524Z"
    },
    "collapsed": false,
    "jupyter": {
     "outputs_hidden": false
    }
   },
   "outputs": [
    {
     "name": "stdout",
     "output_type": "stream",
     "text": [
      "Median array\n",
      "[['343.79']\n",
      " ['345.11']\n",
      " ['341.24']\n",
      " ['343.64']]\n"
     ]
    }
   ],
   "source": [
    "# Median array\n",
    "median_array = x_2 = np.array([format(median_open, \".2f\"), format(median_high, \".2f\"), format(median_low, \".2f\"), format(median_close, \".2f\")]) #define array\n",
    "x_2 = median_array.reshape((-1, 1)) # Transpose array\n",
    "\n",
    "print('Median array')\n",
    "print(x_2)"
   ]
  },
  {
   "cell_type": "code",
   "execution_count": 32,
   "metadata": {
    "ExecuteTime": {
     "end_time": "2023-12-12T02:35:12.827971Z",
     "start_time": "2023-12-12T02:35:12.798362Z"
    },
    "collapsed": false,
    "jupyter": {
     "outputs_hidden": false
    }
   },
   "outputs": [
    {
     "name": "stdout",
     "output_type": "stream",
     "text": [
      "Max array\n",
      "[['360.80']\n",
      " ['364.90']\n",
      " ['360.50']\n",
      " ['363.13']]\n"
     ]
    }
   ],
   "source": [
    "# Max array\n",
    "max_array = x_3 = np.array([format(max_open, \".2f\"), format(max_high, \".2f\"), format(max_low, \".2f\"), format(max_close, \".2f\")]) #define array\n",
    "x_3 = max_array.reshape((-1, 1)) # Transpose array\n",
    "\n",
    "print('Max array')\n",
    "print(x_3)"
   ]
  },
  {
   "cell_type": "code",
   "execution_count": 33,
   "metadata": {
    "ExecuteTime": {
     "end_time": "2023-12-12T02:35:13.550589Z",
     "start_time": "2023-12-12T02:35:13.492656Z"
    },
    "collapsed": false,
    "jupyter": {
     "outputs_hidden": false
    }
   },
   "outputs": [
    {
     "name": "stdout",
     "output_type": "stream",
     "text": [
      "Min array\n",
      "[['325.64']\n",
      " ['330.26']\n",
      " ['324.84']\n",
      " ['326.72']]\n"
     ]
    }
   ],
   "source": [
    "# Min array\n",
    "min_array = x_4 = np.array([format(min_open, \".2f\"), format(min_high, \".2f\"), format(min_low, \".2f\"), format(min_close, \".2f\")]) #define array\n",
    "x_4 = min_array.reshape((-1, 1)) # Transpose array\n",
    "\n",
    "print('Min array')\n",
    "print(x_4)"
   ]
  },
  {
   "cell_type": "code",
   "execution_count": 34,
   "metadata": {
    "ExecuteTime": {
     "end_time": "2023-12-12T02:35:14.132826Z",
     "start_time": "2023-12-12T02:35:14.103048Z"
    },
    "collapsed": false,
    "jupyter": {
     "outputs_hidden": false
    }
   },
   "outputs": [
    {
     "name": "stdout",
     "output_type": "stream",
     "text": [
      "Range array\n",
      "[['35.16']\n",
      " ['34.64']\n",
      " ['35.66']\n",
      " ['36.41']]\n"
     ]
    }
   ],
   "source": [
    "# Range array\n",
    "range_array = x_5 = np.array([format(range_open, \".2f\"), format(range_high, \".2f\"), format(range_low, \".2f\"), format(range_close, \".2f\")]) #define array\n",
    "x_5 = range_array.reshape((-1, 1)) # Transpose array\n",
    "\n",
    "print('Range array')\n",
    "print(x_5)"
   ]
  },
  {
   "cell_type": "code",
   "execution_count": 35,
   "metadata": {
    "ExecuteTime": {
     "end_time": "2023-12-12T02:35:14.756227Z",
     "start_time": "2023-12-12T02:35:14.732200Z"
    },
    "collapsed": false,
    "jupyter": {
     "outputs_hidden": false
    }
   },
   "outputs": [
    {
     "name": "stdout",
     "output_type": "stream",
     "text": [
      "Variance array\n",
      "[['100.39']\n",
      " ['87.03']\n",
      " ['104.89']\n",
      " ['91.70']]\n"
     ]
    }
   ],
   "source": [
    "# Variance array\n",
    "var_array = x_6 = np.array([format(var_open, \".2f\"), format(var_high, \".2f\"), format(var_low, \".2f\"), format(var_close, \".2f\")]) #define array\n",
    "x_6 = var_array.reshape((-1, 1)) # Transpose array\n",
    "\n",
    "print('Variance array')\n",
    "print(x_6)"
   ]
  },
  {
   "cell_type": "code",
   "execution_count": 36,
   "metadata": {
    "ExecuteTime": {
     "end_time": "2023-12-12T02:35:27.985858Z",
     "start_time": "2023-12-12T02:35:27.978266Z"
    },
    "collapsed": false,
    "jupyter": {
     "outputs_hidden": false
    }
   },
   "outputs": [
    {
     "name": "stdout",
     "output_type": "stream",
     "text": [
      "Std. Dev array\n",
      "[['10.02']\n",
      " ['9.33']\n",
      " ['10.24']\n",
      " ['9.58']]\n"
     ]
    }
   ],
   "source": [
    "# Std. Dev. array\n",
    "std_array = x_7 = np.array([format(std_open, \".2f\"), format(std_high, \".2f\"), format(std_low, \".2f\"), format(std_close, \".2f\")]) #define array\n",
    "x_7 = std_array.reshape((-1, 1)) # Transpose array\n",
    "\n",
    "print('Std. Dev array')\n",
    "print(x_7)"
   ]
  },
  {
   "cell_type": "code",
   "execution_count": null,
   "metadata": {
    "collapsed": false,
    "jupyter": {
     "outputs_hidden": false
    }
   },
   "outputs": [],
   "source": []
  }
 ],
 "metadata": {
  "kernelspec": {
   "display_name": "Python 3 (ipykernel)",
   "language": "python",
   "name": "python3"
  },
  "language_info": {
   "codemirror_mode": {
    "name": "ipython",
    "version": 3
   },
   "file_extension": ".py",
   "mimetype": "text/x-python",
   "name": "python",
   "nbconvert_exporter": "python",
   "pygments_lexer": "ipython3",
   "version": "3.8.17"
  }
 },
 "nbformat": 4,
 "nbformat_minor": 4
}
